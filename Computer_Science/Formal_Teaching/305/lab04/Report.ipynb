{
 "cells": [
  {
   "cell_type": "markdown",
   "metadata": {},
   "source": [
    "# CPS305 Fall 2019\n",
    "## Lab $04$ Report\n",
    "## Calvin Mozola, Std ID 500909122\n",
    "\n",
    "03 10 2019\n",
    "\n",
    "# Introduction and Overall Comments\n",
    "\n",
    "This is the submission for lab 4, I made modifications to the tree drawing program and created the 3 recursive programs: two power functions and a binomial coefficient calculator."
   ]
  },
  {
   "cell_type": "markdown",
   "metadata": {},
   "source": [
    "## Solution for exercise 1"
   ]
  },
  {
   "cell_type": "code",
   "execution_count": null,
   "metadata": {},
   "outputs": [],
   "source": [
    "\n",
    "import turtle\n",
    "import random\n",
    "\n",
    "def tree(branchLen,t):\n",
    "\n",
    "    if(branchLen<20):#the size to be considered a leaf and coloured green\n",
    "        strinkAmount = random.randint(4, 6)#decrase for leaf lenght (4-6)\n",
    "    else:\n",
    "        strinkAmount = random.randint(5,15)#decrease the branch length (5-15)\n",
    "    angleAmount = random.randint(int(15-branchLen/10),int(45-branchLen/3))#random angle that increase as size gets smaller\n",
    "    if branchLen>5:\n",
    "        setPen(branchLen,t)#sets the size can colour of the pen\n",
    "        t.forward(branchLen)\n",
    "        t.right(angleAmount)\n",
    "        tree(branchLen-strinkAmount,t)\n",
    "        t.left(angleAmount*2)\n",
    "        tree(branchLen-strinkAmount,t)\n",
    "        t.right(angleAmount)\n",
    "        setPen(branchLen, t)#se the size and colour of the pen for backwards draw\n",
    "        t.backward(branchLen)\n",
    "\n",
    "def setPen(branchLen,t):\n",
    "    if(branchLen <20):#leaf is less than 20\n",
    "        t.color(\"green\")\n",
    "    else:\n",
    "        t.color(\"brown\")\n",
    "\n",
    "    t.pensize(branchLen/5)\n",
    "\n",
    "def main():\n",
    "    t = turtle.Turtle()\n",
    "    myWin = turtle.Screen()\n",
    "    t.left(90)\n",
    "    t.up()\n",
    "    #t.speed(0)\n",
    "    turtle.tracer(10)#makes the program run faster\n",
    "    t.backward(150)\n",
    "    t.down()\n",
    "    tree(75,t)\n",
    "    myWin.exitonclick()\n",
    "\n",
    "if __name__ == '__main__':\n",
    "    main()"
   ]
  },
  {
   "attachments": {},
   "cell_type": "markdown",
   "metadata": {},
   "source": [
    "**Discussion of the Results**\n",
    "\n",
    "There were four major things to modify in this code: (1)modify thickness, (2)modify colour, (3)modify angle, and (4) modify the length\n",
    "\n",
    "(1) This is done in the setPen function: simple linear scale with relationship to the length\n",
    "\n",
    "(2) Also done in setPen function: if the length is less than 20 the colour is green otherwise brown\n",
    "\n",
    "(3) Using random.randint for a random angle. Random angle gets larger as branch length gets smaller\n",
    "\n",
    "(4) Either subtract a random number of (4-6) if length less than 20, considered a leaf. Or subtracts random number (5-15) if the length is greater than 20, considered a branch."
   ]
  },
  {
   "cell_type": "markdown",
   "metadata": {},
   "source": [
    "## Solution for Exercise 2"
   ]
  },
  {
   "cell_type": "code",
   "execution_count": 4,
   "metadata": {},
   "outputs": [],
   "source": [
    "\n",
    "def power(x,n,acc=1):\n",
    "    if( n ==0):\n",
    "        return acc#this is the base case\n",
    "    else:\n",
    "        return power(x,n-1,acc*x)#subract power by one and multiple acc by x\n",
    "\n",
    "def powerH(x,n):\n",
    "    if( n==0):\n",
    "        return 1\n",
    "    elif(n==1):\n",
    "        return x\n",
    "    elif(n%2==0):\n",
    "        return powerH(x,n//2) * powerH(x,n//2)#if even it splits into to even groups\n",
    "    else:\n",
    "        return powerH(x,n//2) * powerH(x,n//2) * x#if old it splits into to even group plus one extra\n",
    "\n",
    "def binomialCo(n,k):#n is the column and k is the row\n",
    "    if(k==0 or n ==0):\n",
    "        return 1\n",
    "    if(k == n):\n",
    "        return 1\n",
    "    return binomialCo(n,k-1) + binomialCo(n-1,k-1)#added the two value above"
   ]
  },
  {
   "cell_type": "markdown",
   "metadata": {},
   "source": [
    "**Discussion of the Results**\n",
    "\n",
    "There was 3 functions made for this selection: (1) power, (2)powerH, and (3)binomial coefficient\n",
    "\n",
    "(1) power is a tail-recursive function because when it makes a call to itself it, it is in the return with nothing else (no multiplication operations in the return)\n",
    "\n",
    "(2) powerH is not a tail-recursive function because it not only makes multiple recursive calls in itself in the returns. It also has multiplication operators \n",
    "\n",
    "(3) binomialCo is not tail-recursive for similar reasons as to why powerH is not. This function calculates the value for a binomial coefficient by adding up the two \"above\" numbers in the pascal's triangle.\n"
   ]
  }
 ],
 "metadata": {
  "kernelspec": {
   "display_name": "Python 3",
   "language": "python",
   "name": "python3"
  },
  "language_info": {
   "codemirror_mode": {
    "name": "ipython",
    "version": 3
   },
   "file_extension": ".py",
   "mimetype": "text/x-python",
   "name": "python",
   "nbconvert_exporter": "python",
   "pygments_lexer": "ipython3",
   "version": "3.7.3"
  },
  "latex_envs": {
   "LaTeX_envs_menu_present": true,
   "autoclose": false,
   "autocomplete": true,
   "bibliofile": "biblio.bib",
   "cite_by": "apalike",
   "current_citInitial": 1,
   "eqLabelWithNumbers": true,
   "eqNumInitial": 1,
   "hotkeys": {
    "equation": "Ctrl-E",
    "itemize": "Ctrl-I"
   },
   "labels_anchors": false,
   "latex_user_defs": false,
   "report_style_numbering": false,
   "user_envs_cfg": false
  }
 },
 "nbformat": 4,
 "nbformat_minor": 2
}
